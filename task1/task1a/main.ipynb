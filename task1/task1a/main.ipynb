{
 "cells": [
  {
   "cell_type": "code",
   "execution_count": 1,
   "id": "0a89c1bc",
   "metadata": {},
   "outputs": [],
   "source": [
    "%load_ext autoreload\n",
    "%autoreload 2"
   ]
  },
  {
   "cell_type": "code",
   "execution_count": 2,
   "id": "ee5d72c2",
   "metadata": {},
   "outputs": [],
   "source": [
    "import numpy as np\n",
    "import pandas as pd\n",
    "import matplotlib.pyplot as plt"
   ]
  },
  {
   "cell_type": "markdown",
   "id": "b6f9a9bb",
   "metadata": {},
   "source": [
    "## 1. Read Data"
   ]
  },
  {
   "cell_type": "code",
   "execution_count": 3,
   "id": "6d6de687",
   "metadata": {},
   "outputs": [],
   "source": [
    "from helpers.utils import read_data"
   ]
  },
  {
   "cell_type": "code",
   "execution_count": 4,
   "id": "82a16331",
   "metadata": {},
   "outputs": [
    {
     "data": {
      "text/plain": [
       "((150, 13), (150,))"
      ]
     },
     "execution_count": 4,
     "metadata": {},
     "output_type": "execute_result"
    }
   ],
   "source": [
    "train_path = \"./data/train.csv\"\n",
    "X, y = read_data(train_path)\n",
    "X.shape, y.shape"
   ]
  },
  {
   "cell_type": "markdown",
   "id": "2cffd9bc",
   "metadata": {},
   "source": [
    "## 2. Cross Validation"
   ]
  },
  {
   "cell_type": "code",
   "execution_count": 5,
   "id": "4c0673b1",
   "metadata": {},
   "outputs": [],
   "source": [
    "import helpers.config as config\n",
    "\n",
    "from helpers.cross_validation import CrossValidator\n",
    "from helpers.utils import rmse_scoring\n",
    "from sklearn.linear_model import Ridge"
   ]
  },
  {
   "cell_type": "code",
   "execution_count": 6,
   "id": "1321d7dc",
   "metadata": {},
   "outputs": [],
   "source": [
    "classifier = Ridge(tol=1e-10, fit_intercept=False)\n",
    "param_grid = {\"alpha\": config.config_lambda}\n",
    "scoring = {\"rmse_score\": rmse_scoring()}"
   ]
  },
  {
   "cell_type": "code",
   "execution_count": 7,
   "id": "61266912",
   "metadata": {},
   "outputs": [],
   "source": [
    "cv = CrossValidator(X, y, classifier, param_grid, config.config_K, scoring, refit=\"rmse_score\")\n",
    "df_cv = cv.fit()"
   ]
  },
  {
   "cell_type": "code",
   "execution_count": 8,
   "id": "bf029e49",
   "metadata": {},
   "outputs": [
    {
     "data": {
      "text/html": [
       "<div>\n",
       "<style scoped>\n",
       "    .dataframe tbody tr th:only-of-type {\n",
       "        vertical-align: middle;\n",
       "    }\n",
       "\n",
       "    .dataframe tbody tr th {\n",
       "        vertical-align: top;\n",
       "    }\n",
       "\n",
       "    .dataframe thead th {\n",
       "        text-align: right;\n",
       "    }\n",
       "</style>\n",
       "<table border=\"1\" class=\"dataframe\">\n",
       "  <thead>\n",
       "    <tr style=\"text-align: right;\">\n",
       "      <th></th>\n",
       "      <th>mean_fit_time</th>\n",
       "      <th>std_fit_time</th>\n",
       "      <th>mean_score_time</th>\n",
       "      <th>std_score_time</th>\n",
       "      <th>param_alpha</th>\n",
       "      <th>params</th>\n",
       "      <th>split0_test_rmse_score</th>\n",
       "      <th>split1_test_rmse_score</th>\n",
       "      <th>split2_test_rmse_score</th>\n",
       "      <th>split3_test_rmse_score</th>\n",
       "      <th>split4_test_rmse_score</th>\n",
       "      <th>split5_test_rmse_score</th>\n",
       "      <th>split6_test_rmse_score</th>\n",
       "      <th>split7_test_rmse_score</th>\n",
       "      <th>split8_test_rmse_score</th>\n",
       "      <th>split9_test_rmse_score</th>\n",
       "      <th>mean_test_rmse_score</th>\n",
       "      <th>std_test_rmse_score</th>\n",
       "      <th>rank_test_rmse_score</th>\n",
       "    </tr>\n",
       "  </thead>\n",
       "  <tbody>\n",
       "    <tr>\n",
       "      <th>0</th>\n",
       "      <td>0.000000</td>\n",
       "      <td>0.000000</td>\n",
       "      <td>0.001563</td>\n",
       "      <td>0.004688</td>\n",
       "      <td>0.1</td>\n",
       "      <td>{'alpha': 0.1}</td>\n",
       "      <td>-7.441234</td>\n",
       "      <td>-5.128266</td>\n",
       "      <td>-7.707647</td>\n",
       "      <td>-4.540061</td>\n",
       "      <td>-4.075316</td>\n",
       "      <td>-5.109754</td>\n",
       "      <td>-6.551364</td>\n",
       "      <td>-6.040220</td>\n",
       "      <td>-4.887598</td>\n",
       "      <td>-3.554922</td>\n",
       "      <td>-5.503638</td>\n",
       "      <td>1.320576</td>\n",
       "      <td>3</td>\n",
       "    </tr>\n",
       "    <tr>\n",
       "      <th>1</th>\n",
       "      <td>0.000000</td>\n",
       "      <td>0.000000</td>\n",
       "      <td>0.000000</td>\n",
       "      <td>0.000000</td>\n",
       "      <td>1.0</td>\n",
       "      <td>{'alpha': 1.0}</td>\n",
       "      <td>-7.477933</td>\n",
       "      <td>-4.883931</td>\n",
       "      <td>-7.702792</td>\n",
       "      <td>-4.500595</td>\n",
       "      <td>-4.072622</td>\n",
       "      <td>-5.151921</td>\n",
       "      <td>-6.561512</td>\n",
       "      <td>-6.098370</td>\n",
       "      <td>-4.881777</td>\n",
       "      <td>-3.472549</td>\n",
       "      <td>-5.480400</td>\n",
       "      <td>1.351858</td>\n",
       "      <td>2</td>\n",
       "    </tr>\n",
       "    <tr>\n",
       "      <th>2</th>\n",
       "      <td>0.001563</td>\n",
       "      <td>0.004688</td>\n",
       "      <td>0.000000</td>\n",
       "      <td>0.000000</td>\n",
       "      <td>10.0</td>\n",
       "      <td>{'alpha': 10.0}</td>\n",
       "      <td>-7.581469</td>\n",
       "      <td>-4.452825</td>\n",
       "      <td>-7.727744</td>\n",
       "      <td>-4.339892</td>\n",
       "      <td>-4.194254</td>\n",
       "      <td>-5.394463</td>\n",
       "      <td>-6.552751</td>\n",
       "      <td>-6.367170</td>\n",
       "      <td>-4.705849</td>\n",
       "      <td>-3.382438</td>\n",
       "      <td>-5.469886</td>\n",
       "      <td>1.428980</td>\n",
       "      <td>1</td>\n",
       "    </tr>\n",
       "    <tr>\n",
       "      <th>3</th>\n",
       "      <td>0.000000</td>\n",
       "      <td>0.000000</td>\n",
       "      <td>0.000000</td>\n",
       "      <td>0.000000</td>\n",
       "      <td>100.0</td>\n",
       "      <td>{'alpha': 100.0}</td>\n",
       "      <td>-8.196459</td>\n",
       "      <td>-3.552561</td>\n",
       "      <td>-7.779944</td>\n",
       "      <td>-4.946785</td>\n",
       "      <td>-4.894264</td>\n",
       "      <td>-7.119826</td>\n",
       "      <td>-7.135450</td>\n",
       "      <td>-7.592244</td>\n",
       "      <td>-4.302997</td>\n",
       "      <td>-3.798782</td>\n",
       "      <td>-5.931931</td>\n",
       "      <td>1.705047</td>\n",
       "      <td>4</td>\n",
       "    </tr>\n",
       "    <tr>\n",
       "      <th>4</th>\n",
       "      <td>0.000000</td>\n",
       "      <td>0.000000</td>\n",
       "      <td>0.000000</td>\n",
       "      <td>0.000000</td>\n",
       "      <td>200.0</td>\n",
       "      <td>{'alpha': 200.0}</td>\n",
       "      <td>-8.507482</td>\n",
       "      <td>-3.603993</td>\n",
       "      <td>-7.889683</td>\n",
       "      <td>-5.240547</td>\n",
       "      <td>-5.242722</td>\n",
       "      <td>-7.878800</td>\n",
       "      <td>-7.478659</td>\n",
       "      <td>-7.993559</td>\n",
       "      <td>-4.450260</td>\n",
       "      <td>-4.147759</td>\n",
       "      <td>-6.243347</td>\n",
       "      <td>1.779898</td>\n",
       "      <td>5</td>\n",
       "    </tr>\n",
       "  </tbody>\n",
       "</table>\n",
       "</div>"
      ],
      "text/plain": [
       "   mean_fit_time  std_fit_time  mean_score_time  std_score_time param_alpha  \\\n",
       "0       0.000000      0.000000         0.001563        0.004688         0.1   \n",
       "1       0.000000      0.000000         0.000000        0.000000         1.0   \n",
       "2       0.001563      0.004688         0.000000        0.000000        10.0   \n",
       "3       0.000000      0.000000         0.000000        0.000000       100.0   \n",
       "4       0.000000      0.000000         0.000000        0.000000       200.0   \n",
       "\n",
       "             params  split0_test_rmse_score  split1_test_rmse_score  \\\n",
       "0    {'alpha': 0.1}               -7.441234               -5.128266   \n",
       "1    {'alpha': 1.0}               -7.477933               -4.883931   \n",
       "2   {'alpha': 10.0}               -7.581469               -4.452825   \n",
       "3  {'alpha': 100.0}               -8.196459               -3.552561   \n",
       "4  {'alpha': 200.0}               -8.507482               -3.603993   \n",
       "\n",
       "   split2_test_rmse_score  split3_test_rmse_score  split4_test_rmse_score  \\\n",
       "0               -7.707647               -4.540061               -4.075316   \n",
       "1               -7.702792               -4.500595               -4.072622   \n",
       "2               -7.727744               -4.339892               -4.194254   \n",
       "3               -7.779944               -4.946785               -4.894264   \n",
       "4               -7.889683               -5.240547               -5.242722   \n",
       "\n",
       "   split5_test_rmse_score  split6_test_rmse_score  split7_test_rmse_score  \\\n",
       "0               -5.109754               -6.551364               -6.040220   \n",
       "1               -5.151921               -6.561512               -6.098370   \n",
       "2               -5.394463               -6.552751               -6.367170   \n",
       "3               -7.119826               -7.135450               -7.592244   \n",
       "4               -7.878800               -7.478659               -7.993559   \n",
       "\n",
       "   split8_test_rmse_score  split9_test_rmse_score  mean_test_rmse_score  \\\n",
       "0               -4.887598               -3.554922             -5.503638   \n",
       "1               -4.881777               -3.472549             -5.480400   \n",
       "2               -4.705849               -3.382438             -5.469886   \n",
       "3               -4.302997               -3.798782             -5.931931   \n",
       "4               -4.450260               -4.147759             -6.243347   \n",
       "\n",
       "   std_test_rmse_score  rank_test_rmse_score  \n",
       "0             1.320576                     3  \n",
       "1             1.351858                     2  \n",
       "2             1.428980                     1  \n",
       "3             1.705047                     4  \n",
       "4             1.779898                     5  "
      ]
     },
     "execution_count": 8,
     "metadata": {},
     "output_type": "execute_result"
    }
   ],
   "source": [
    "df_cv"
   ]
  },
  {
   "cell_type": "code",
   "execution_count": 9,
   "id": "af650c86",
   "metadata": {},
   "outputs": [
    {
     "data": {
      "text/plain": [
       "Ridge(alpha=10.0, fit_intercept=False, tol=1e-10)"
      ]
     },
     "execution_count": 9,
     "metadata": {},
     "output_type": "execute_result"
    }
   ],
   "source": [
    "cv.clf.best_estimator_"
   ]
  },
  {
   "cell_type": "code",
   "execution_count": 10,
   "id": "5cb34b7e",
   "metadata": {},
   "outputs": [
    {
     "data": {
      "text/plain": [
       "0    5.503638\n",
       "1    5.480400\n",
       "2    5.469886\n",
       "3    5.931931\n",
       "4    6.243347\n",
       "Name: mean_test_rmse_score, dtype: float64"
      ]
     },
     "execution_count": 10,
     "metadata": {},
     "output_type": "execute_result"
    }
   ],
   "source": [
    "rmse_vals = cv.get_rmse()\n",
    "rmse_vals"
   ]
  },
  {
   "cell_type": "markdown",
   "id": "86bc09af",
   "metadata": {},
   "source": [
    "## 3. Sanity Check & Save Results"
   ]
  },
  {
   "cell_type": "code",
   "execution_count": 11,
   "id": "02119b4a",
   "metadata": {},
   "outputs": [],
   "source": [
    "model = cv.clf.best_estimator_"
   ]
  },
  {
   "cell_type": "code",
   "execution_count": 12,
   "id": "82397a38",
   "metadata": {},
   "outputs": [
    {
     "data": {
      "text/plain": [
       "(array([-0.04456046,  0.04496583,  0.0123375 ,  1.81172864, -0.067546  ,\n",
       "         4.74036294,  0.02211344, -0.6632584 ,  0.36525954, -0.01283116,\n",
       "        -0.22554368,  0.02190674, -0.65713917]),\n",
       " 0.0)"
      ]
     },
     "execution_count": 12,
     "metadata": {},
     "output_type": "execute_result"
    }
   ],
   "source": [
    "coeff = model.coef_\n",
    "intercept = model.intercept_\n",
    "coeff, intercept"
   ]
  },
  {
   "cell_type": "code",
   "execution_count": 13,
   "id": "e556330a",
   "metadata": {},
   "outputs": [
    {
     "data": {
      "text/plain": [
       "5.064693241230038"
      ]
     },
     "execution_count": 13,
     "metadata": {},
     "output_type": "execute_result"
    }
   ],
   "source": [
    "y_pred = X @ coeff\n",
    "assert np.allclose(y_pred, model.predict(X))\n",
    "rmse_manual = np.sqrt(np.linalg.norm(y_pred - y) ** 2 / y.shape[0])\n",
    "rmse_manual"
   ]
  },
  {
   "cell_type": "code",
   "execution_count": 14,
   "id": "91c95077",
   "metadata": {},
   "outputs": [],
   "source": [
    "best_lam = 10\n",
    "coeff_manual =  np.linalg.pinv(X.T @ X + best_lam * np.eye(X.shape[1])) @ (X.T @ y)\n",
    "assert np.allclose(coeff_manual, coeff)"
   ]
  },
  {
   "cell_type": "code",
   "execution_count": 15,
   "id": "b91d44b8",
   "metadata": {},
   "outputs": [],
   "source": [
    "from helpers.utils import save_data"
   ]
  },
  {
   "cell_type": "code",
   "execution_count": 16,
   "id": "a7857dae",
   "metadata": {},
   "outputs": [],
   "source": [
    "out_path = \"./outputs/submission.csv\"\n",
    "save_data(out_path, rmse_vals.values)"
   ]
  },
  {
   "cell_type": "code",
   "execution_count": null,
   "id": "39907dc0",
   "metadata": {},
   "outputs": [],
   "source": []
  }
 ],
 "metadata": {
  "kernelspec": {
   "display_name": "IML",
   "language": "python",
   "name": "iml"
  },
  "language_info": {
   "codemirror_mode": {
    "name": "ipython",
    "version": 3
   },
   "file_extension": ".py",
   "mimetype": "text/x-python",
   "name": "python",
   "nbconvert_exporter": "python",
   "pygments_lexer": "ipython3",
   "version": "3.9.5"
  }
 },
 "nbformat": 4,
 "nbformat_minor": 5
}
