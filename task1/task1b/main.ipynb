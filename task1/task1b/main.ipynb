{
 "cells": [
  {
   "cell_type": "code",
   "execution_count": 1,
   "id": "57ff93a5",
   "metadata": {},
   "outputs": [],
   "source": [
    "%load_ext autoreload\n",
    "%autoreload 2"
   ]
  },
  {
   "cell_type": "code",
   "execution_count": 1,
   "id": "78e48bad",
   "metadata": {},
   "outputs": [],
   "source": [
    "import numpy as np\n",
    "import pandas as pd\n",
    "import matplotlib.pyplot as plt"
   ]
  },
  {
   "cell_type": "markdown",
   "id": "738920dd",
   "metadata": {},
   "source": [
    "## 1. Read Data"
   ]
  },
  {
   "cell_type": "code",
   "execution_count": 2,
   "id": "a34e2252",
   "metadata": {},
   "outputs": [],
   "source": [
    "from helpers.utils import read_data\n",
    "from helpers.utils import get_features"
   ]
  },
  {
   "cell_type": "code",
   "execution_count": 3,
   "id": "36d92e34",
   "metadata": {},
   "outputs": [
    {
     "data": {
      "text/plain": [
       "((700, 5), (700,))"
      ]
     },
     "execution_count": 3,
     "metadata": {},
     "output_type": "execute_result"
    }
   ],
   "source": [
    "train_path = \"./data/train.csv\"\n",
    "X, y = read_data(train_path)\n",
    "X.shape, y.shape"
   ]
  },
  {
   "cell_type": "code",
   "execution_count": 4,
   "id": "8b3f6f2d",
   "metadata": {},
   "outputs": [
    {
     "data": {
      "text/plain": [
       "(700, 21)"
      ]
     },
     "execution_count": 4,
     "metadata": {},
     "output_type": "execute_result"
    }
   ],
   "source": [
    "X_features = get_features(X)\n",
    "X_features.shape"
   ]
  },
  {
   "cell_type": "markdown",
   "id": "6223ffec",
   "metadata": {},
   "source": [
    "## 2.Cross Validation"
   ]
  },
  {
   "cell_type": "code",
   "execution_count": 5,
   "id": "5c637abb",
   "metadata": {},
   "outputs": [],
   "source": [
    "import helpers.config as config\n",
    "\n",
    "from helpers.cross_validation import CrossValidator\n",
    "from helpers.utils import rmse_scoring"
   ]
  },
  {
   "cell_type": "markdown",
   "id": "92f7f594",
   "metadata": {},
   "source": [
    "### 2.1 Ridge Regression"
   ]
  },
  {
   "cell_type": "code",
   "execution_count": 6,
   "id": "0b16064b",
   "metadata": {},
   "outputs": [],
   "source": [
    "from sklearn.linear_model import Ridge"
   ]
  },
  {
   "cell_type": "code",
   "execution_count": 45,
   "id": "d8607512",
   "metadata": {},
   "outputs": [],
   "source": [
    "classifier = Ridge(fit_intercept=False, tol=1e-3)\n",
    "param_grid = {\"alpha\": config.config_lambda}\n",
    "scorings = {\"rmse\": rmse_scoring()}\n",
    "refit = \"rmse\"\n",
    "cv = CrossValidator(X_features, y, classifier, param_grid, config.config_K, scorings, refit=refit)\n",
    "df_train = cv.fit()"
   ]
  },
  {
   "cell_type": "code",
   "execution_count": 46,
   "id": "23a46a2c",
   "metadata": {},
   "outputs": [
    {
     "data": {
      "text/html": [
       "<div>\n",
       "<style scoped>\n",
       "    .dataframe tbody tr th:only-of-type {\n",
       "        vertical-align: middle;\n",
       "    }\n",
       "\n",
       "    .dataframe tbody tr th {\n",
       "        vertical-align: top;\n",
       "    }\n",
       "\n",
       "    .dataframe thead th {\n",
       "        text-align: right;\n",
       "    }\n",
       "</style>\n",
       "<table border=\"1\" class=\"dataframe\">\n",
       "  <thead>\n",
       "    <tr style=\"text-align: right;\">\n",
       "      <th></th>\n",
       "      <th>mean_fit_time</th>\n",
       "      <th>std_fit_time</th>\n",
       "      <th>mean_score_time</th>\n",
       "      <th>std_score_time</th>\n",
       "      <th>param_alpha</th>\n",
       "      <th>params</th>\n",
       "      <th>split0_test_rmse</th>\n",
       "      <th>split1_test_rmse</th>\n",
       "      <th>split2_test_rmse</th>\n",
       "      <th>split3_test_rmse</th>\n",
       "      <th>split4_test_rmse</th>\n",
       "      <th>mean_test_rmse</th>\n",
       "      <th>std_test_rmse</th>\n",
       "      <th>rank_test_rmse</th>\n",
       "    </tr>\n",
       "  </thead>\n",
       "  <tbody>\n",
       "    <tr>\n",
       "      <th>0</th>\n",
       "      <td>0.002710</td>\n",
       "      <td>0.005420</td>\n",
       "      <td>0.000200</td>\n",
       "      <td>0.000400</td>\n",
       "      <td>0.0</td>\n",
       "      <td>{'alpha': 0.0}</td>\n",
       "      <td>-4.149157</td>\n",
       "      <td>-1.929628</td>\n",
       "      <td>-2.304097</td>\n",
       "      <td>-2.000639</td>\n",
       "      <td>-1.924890</td>\n",
       "      <td>-2.461682</td>\n",
       "      <td>0.855125</td>\n",
       "      <td>12</td>\n",
       "    </tr>\n",
       "    <tr>\n",
       "      <th>1</th>\n",
       "      <td>0.000802</td>\n",
       "      <td>0.000401</td>\n",
       "      <td>0.000000</td>\n",
       "      <td>0.000000</td>\n",
       "      <td>0.001</td>\n",
       "      <td>{'alpha': 0.001}</td>\n",
       "      <td>-2.253038</td>\n",
       "      <td>-1.911017</td>\n",
       "      <td>-2.030677</td>\n",
       "      <td>-1.901543</td>\n",
       "      <td>-1.861436</td>\n",
       "      <td>-1.991542</td>\n",
       "      <td>0.142424</td>\n",
       "      <td>11</td>\n",
       "    </tr>\n",
       "    <tr>\n",
       "      <th>2</th>\n",
       "      <td>0.000879</td>\n",
       "      <td>0.001315</td>\n",
       "      <td>0.000000</td>\n",
       "      <td>0.000000</td>\n",
       "      <td>0.005</td>\n",
       "      <td>{'alpha': 0.005}</td>\n",
       "      <td>-2.251434</td>\n",
       "      <td>-1.912420</td>\n",
       "      <td>-2.030274</td>\n",
       "      <td>-1.899697</td>\n",
       "      <td>-1.859538</td>\n",
       "      <td>-1.990673</td>\n",
       "      <td>0.142240</td>\n",
       "      <td>10</td>\n",
       "    </tr>\n",
       "    <tr>\n",
       "      <th>3</th>\n",
       "      <td>0.000601</td>\n",
       "      <td>0.000490</td>\n",
       "      <td>0.000403</td>\n",
       "      <td>0.000493</td>\n",
       "      <td>0.01</td>\n",
       "      <td>{'alpha': 0.01}</td>\n",
       "      <td>-2.251463</td>\n",
       "      <td>-1.912509</td>\n",
       "      <td>-2.029837</td>\n",
       "      <td>-1.898485</td>\n",
       "      <td>-1.858942</td>\n",
       "      <td>-1.990247</td>\n",
       "      <td>0.142482</td>\n",
       "      <td>9</td>\n",
       "    </tr>\n",
       "    <tr>\n",
       "      <th>4</th>\n",
       "      <td>0.000729</td>\n",
       "      <td>0.000374</td>\n",
       "      <td>0.000200</td>\n",
       "      <td>0.000400</td>\n",
       "      <td>0.05</td>\n",
       "      <td>{'alpha': 0.05}</td>\n",
       "      <td>-2.252368</td>\n",
       "      <td>-1.911771</td>\n",
       "      <td>-2.027193</td>\n",
       "      <td>-1.893324</td>\n",
       "      <td>-1.856568</td>\n",
       "      <td>-1.988245</td>\n",
       "      <td>0.143858</td>\n",
       "      <td>8</td>\n",
       "    </tr>\n",
       "    <tr>\n",
       "      <th>5</th>\n",
       "      <td>0.000203</td>\n",
       "      <td>0.000407</td>\n",
       "      <td>0.000799</td>\n",
       "      <td>0.000399</td>\n",
       "      <td>0.1</td>\n",
       "      <td>{'alpha': 0.1}</td>\n",
       "      <td>-2.252418</td>\n",
       "      <td>-1.910901</td>\n",
       "      <td>-2.024719</td>\n",
       "      <td>-1.890746</td>\n",
       "      <td>-1.854940</td>\n",
       "      <td>-1.986745</td>\n",
       "      <td>0.144475</td>\n",
       "      <td>7</td>\n",
       "    </tr>\n",
       "    <tr>\n",
       "      <th>6</th>\n",
       "      <td>0.000603</td>\n",
       "      <td>0.000492</td>\n",
       "      <td>0.000000</td>\n",
       "      <td>0.000000</td>\n",
       "      <td>0.5</td>\n",
       "      <td>{'alpha': 0.5}</td>\n",
       "      <td>-2.250871</td>\n",
       "      <td>-1.907760</td>\n",
       "      <td>-2.014640</td>\n",
       "      <td>-1.887439</td>\n",
       "      <td>-1.848112</td>\n",
       "      <td>-1.981765</td>\n",
       "      <td>0.145421</td>\n",
       "      <td>6</td>\n",
       "    </tr>\n",
       "    <tr>\n",
       "      <th>7</th>\n",
       "      <td>0.000217</td>\n",
       "      <td>0.000434</td>\n",
       "      <td>0.000000</td>\n",
       "      <td>0.000000</td>\n",
       "      <td>1.0</td>\n",
       "      <td>{'alpha': 1.0}</td>\n",
       "      <td>-2.249552</td>\n",
       "      <td>-1.906859</td>\n",
       "      <td>-2.010228</td>\n",
       "      <td>-1.887603</td>\n",
       "      <td>-1.842342</td>\n",
       "      <td>-1.979317</td>\n",
       "      <td>0.145881</td>\n",
       "      <td>5</td>\n",
       "    </tr>\n",
       "    <tr>\n",
       "      <th>8</th>\n",
       "      <td>0.000000</td>\n",
       "      <td>0.000000</td>\n",
       "      <td>0.000000</td>\n",
       "      <td>0.000000</td>\n",
       "      <td>5.0</td>\n",
       "      <td>{'alpha': 5.0}</td>\n",
       "      <td>-2.246756</td>\n",
       "      <td>-1.909411</td>\n",
       "      <td>-2.006213</td>\n",
       "      <td>-1.892034</td>\n",
       "      <td>-1.821122</td>\n",
       "      <td>-1.975107</td>\n",
       "      <td>0.148114</td>\n",
       "      <td>3</td>\n",
       "    </tr>\n",
       "    <tr>\n",
       "      <th>9</th>\n",
       "      <td>0.000000</td>\n",
       "      <td>0.000000</td>\n",
       "      <td>0.000000</td>\n",
       "      <td>0.000000</td>\n",
       "      <td>10.0</td>\n",
       "      <td>{'alpha': 10.0}</td>\n",
       "      <td>-2.245685</td>\n",
       "      <td>-1.912618</td>\n",
       "      <td>-2.006658</td>\n",
       "      <td>-1.894706</td>\n",
       "      <td>-1.812267</td>\n",
       "      <td>-1.974387</td>\n",
       "      <td>0.149058</td>\n",
       "      <td>2</td>\n",
       "    </tr>\n",
       "    <tr>\n",
       "      <th>10</th>\n",
       "      <td>0.000000</td>\n",
       "      <td>0.000000</td>\n",
       "      <td>0.003129</td>\n",
       "      <td>0.006257</td>\n",
       "      <td>20.0</td>\n",
       "      <td>{'alpha': 20.0}</td>\n",
       "      <td>-2.243758</td>\n",
       "      <td>-1.917056</td>\n",
       "      <td>-2.007445</td>\n",
       "      <td>-1.896824</td>\n",
       "      <td>-1.806066</td>\n",
       "      <td>-1.974230</td>\n",
       "      <td>0.149190</td>\n",
       "      <td>1</td>\n",
       "    </tr>\n",
       "    <tr>\n",
       "      <th>11</th>\n",
       "      <td>0.000000</td>\n",
       "      <td>0.000000</td>\n",
       "      <td>0.000000</td>\n",
       "      <td>0.000000</td>\n",
       "      <td>50.0</td>\n",
       "      <td>{'alpha': 50.0}</td>\n",
       "      <td>-2.237915</td>\n",
       "      <td>-1.927076</td>\n",
       "      <td>-2.008965</td>\n",
       "      <td>-1.898827</td>\n",
       "      <td>-1.803222</td>\n",
       "      <td>-1.975201</td>\n",
       "      <td>0.146890</td>\n",
       "      <td>4</td>\n",
       "    </tr>\n",
       "  </tbody>\n",
       "</table>\n",
       "</div>"
      ],
      "text/plain": [
       "    mean_fit_time  std_fit_time  mean_score_time  std_score_time param_alpha  \\\n",
       "0        0.002710      0.005420         0.000200        0.000400         0.0   \n",
       "1        0.000802      0.000401         0.000000        0.000000       0.001   \n",
       "2        0.000879      0.001315         0.000000        0.000000       0.005   \n",
       "3        0.000601      0.000490         0.000403        0.000493        0.01   \n",
       "4        0.000729      0.000374         0.000200        0.000400        0.05   \n",
       "5        0.000203      0.000407         0.000799        0.000399         0.1   \n",
       "6        0.000603      0.000492         0.000000        0.000000         0.5   \n",
       "7        0.000217      0.000434         0.000000        0.000000         1.0   \n",
       "8        0.000000      0.000000         0.000000        0.000000         5.0   \n",
       "9        0.000000      0.000000         0.000000        0.000000        10.0   \n",
       "10       0.000000      0.000000         0.003129        0.006257        20.0   \n",
       "11       0.000000      0.000000         0.000000        0.000000        50.0   \n",
       "\n",
       "              params  split0_test_rmse  split1_test_rmse  split2_test_rmse  \\\n",
       "0     {'alpha': 0.0}         -4.149157         -1.929628         -2.304097   \n",
       "1   {'alpha': 0.001}         -2.253038         -1.911017         -2.030677   \n",
       "2   {'alpha': 0.005}         -2.251434         -1.912420         -2.030274   \n",
       "3    {'alpha': 0.01}         -2.251463         -1.912509         -2.029837   \n",
       "4    {'alpha': 0.05}         -2.252368         -1.911771         -2.027193   \n",
       "5     {'alpha': 0.1}         -2.252418         -1.910901         -2.024719   \n",
       "6     {'alpha': 0.5}         -2.250871         -1.907760         -2.014640   \n",
       "7     {'alpha': 1.0}         -2.249552         -1.906859         -2.010228   \n",
       "8     {'alpha': 5.0}         -2.246756         -1.909411         -2.006213   \n",
       "9    {'alpha': 10.0}         -2.245685         -1.912618         -2.006658   \n",
       "10   {'alpha': 20.0}         -2.243758         -1.917056         -2.007445   \n",
       "11   {'alpha': 50.0}         -2.237915         -1.927076         -2.008965   \n",
       "\n",
       "    split3_test_rmse  split4_test_rmse  mean_test_rmse  std_test_rmse  \\\n",
       "0          -2.000639         -1.924890       -2.461682       0.855125   \n",
       "1          -1.901543         -1.861436       -1.991542       0.142424   \n",
       "2          -1.899697         -1.859538       -1.990673       0.142240   \n",
       "3          -1.898485         -1.858942       -1.990247       0.142482   \n",
       "4          -1.893324         -1.856568       -1.988245       0.143858   \n",
       "5          -1.890746         -1.854940       -1.986745       0.144475   \n",
       "6          -1.887439         -1.848112       -1.981765       0.145421   \n",
       "7          -1.887603         -1.842342       -1.979317       0.145881   \n",
       "8          -1.892034         -1.821122       -1.975107       0.148114   \n",
       "9          -1.894706         -1.812267       -1.974387       0.149058   \n",
       "10         -1.896824         -1.806066       -1.974230       0.149190   \n",
       "11         -1.898827         -1.803222       -1.975201       0.146890   \n",
       "\n",
       "    rank_test_rmse  \n",
       "0               12  \n",
       "1               11  \n",
       "2               10  \n",
       "3                9  \n",
       "4                8  \n",
       "5                7  \n",
       "6                6  \n",
       "7                5  \n",
       "8                3  \n",
       "9                2  \n",
       "10               1  \n",
       "11               4  "
      ]
     },
     "execution_count": 46,
     "metadata": {},
     "output_type": "execute_result"
    }
   ],
   "source": [
    "df_train"
   ]
  },
  {
   "cell_type": "code",
   "execution_count": 47,
   "id": "6bdb22cc",
   "metadata": {},
   "outputs": [
    {
     "data": {
      "text/plain": [
       "1.879761002973425"
      ]
     },
     "execution_count": 47,
     "metadata": {},
     "output_type": "execute_result"
    }
   ],
   "source": [
    "y_pred, rmse_val = cv.predict()\n",
    "rmse_val"
   ]
  },
  {
   "cell_type": "code",
   "execution_count": 48,
   "id": "07fcfc56",
   "metadata": {},
   "outputs": [
    {
     "data": {
      "text/plain": [
       "array([ 0.12518284, -0.10464149, -0.18692221,  0.21906393,  0.04093704,\n",
       "       -0.04741644,  0.0248698 ,  0.03729714, -0.0827775 ,  0.01499384,\n",
       "       -0.49972776, -0.69286684, -0.76943339, -0.41971174, -0.55352431,\n",
       "       -0.57631292, -0.61231367, -0.61853893, -0.5592288 , -0.60708634,\n",
       "       -0.599955  ])"
      ]
     },
     "execution_count": 48,
     "metadata": {},
     "output_type": "execute_result"
    }
   ],
   "source": [
    "coeffs = cv.get_coeff()\n",
    "coeffs"
   ]
  },
  {
   "cell_type": "markdown",
   "id": "3e41217e",
   "metadata": {},
   "source": [
    "### 2.2 Lasso"
   ]
  },
  {
   "cell_type": "code",
   "execution_count": 49,
   "id": "ecef861e",
   "metadata": {},
   "outputs": [],
   "source": [
    "from sklearn.linear_model import Lasso"
   ]
  },
  {
   "cell_type": "code",
   "execution_count": 50,
   "id": "eb16f8ee",
   "metadata": {},
   "outputs": [],
   "source": [
    "classifier = Lasso(fit_intercept=False, tol=1e-3, max_iter=6000)\n",
    "param_grid = {\"alpha\": [0.001, 0.005, 0.01, 0.05, 0.1, 0.5, 1, 5, 10, 20, 50]}\n",
    "scorings = {\"rmse\": rmse_scoring()}\n",
    "refit = \"rmse\"\n",
    "cv = CrossValidator(X_features, y, classifier, param_grid, config.config_K, scorings, refit=refit)\n",
    "df_train = cv.fit()"
   ]
  },
  {
   "cell_type": "code",
   "execution_count": 51,
   "id": "7e5d9b2b",
   "metadata": {},
   "outputs": [
    {
     "data": {
      "text/html": [
       "<div>\n",
       "<style scoped>\n",
       "    .dataframe tbody tr th:only-of-type {\n",
       "        vertical-align: middle;\n",
       "    }\n",
       "\n",
       "    .dataframe tbody tr th {\n",
       "        vertical-align: top;\n",
       "    }\n",
       "\n",
       "    .dataframe thead th {\n",
       "        text-align: right;\n",
       "    }\n",
       "</style>\n",
       "<table border=\"1\" class=\"dataframe\">\n",
       "  <thead>\n",
       "    <tr style=\"text-align: right;\">\n",
       "      <th></th>\n",
       "      <th>mean_fit_time</th>\n",
       "      <th>std_fit_time</th>\n",
       "      <th>mean_score_time</th>\n",
       "      <th>std_score_time</th>\n",
       "      <th>param_alpha</th>\n",
       "      <th>params</th>\n",
       "      <th>split0_test_rmse</th>\n",
       "      <th>split1_test_rmse</th>\n",
       "      <th>split2_test_rmse</th>\n",
       "      <th>split3_test_rmse</th>\n",
       "      <th>split4_test_rmse</th>\n",
       "      <th>mean_test_rmse</th>\n",
       "      <th>std_test_rmse</th>\n",
       "      <th>rank_test_rmse</th>\n",
       "    </tr>\n",
       "  </thead>\n",
       "  <tbody>\n",
       "    <tr>\n",
       "      <th>0</th>\n",
       "      <td>0.019506</td>\n",
       "      <td>0.010974</td>\n",
       "      <td>0.003325</td>\n",
       "      <td>0.006162</td>\n",
       "      <td>0.001</td>\n",
       "      <td>{'alpha': 0.001}</td>\n",
       "      <td>-2.248499</td>\n",
       "      <td>-1.904685</td>\n",
       "      <td>-2.017751</td>\n",
       "      <td>-1.888142</td>\n",
       "      <td>-1.846075</td>\n",
       "      <td>-1.981030</td>\n",
       "      <td>0.145298</td>\n",
       "      <td>3</td>\n",
       "    </tr>\n",
       "    <tr>\n",
       "      <th>1</th>\n",
       "      <td>0.003126</td>\n",
       "      <td>0.006251</td>\n",
       "      <td>0.000000</td>\n",
       "      <td>0.000000</td>\n",
       "      <td>0.005</td>\n",
       "      <td>{'alpha': 0.005}</td>\n",
       "      <td>-2.252456</td>\n",
       "      <td>-1.904015</td>\n",
       "      <td>-2.002782</td>\n",
       "      <td>-1.873738</td>\n",
       "      <td>-1.858215</td>\n",
       "      <td>-1.978241</td>\n",
       "      <td>0.146036</td>\n",
       "      <td>1</td>\n",
       "    </tr>\n",
       "    <tr>\n",
       "      <th>2</th>\n",
       "      <td>0.003126</td>\n",
       "      <td>0.006251</td>\n",
       "      <td>0.000000</td>\n",
       "      <td>0.000000</td>\n",
       "      <td>0.01</td>\n",
       "      <td>{'alpha': 0.01}</td>\n",
       "      <td>-2.251595</td>\n",
       "      <td>-1.906402</td>\n",
       "      <td>-2.003045</td>\n",
       "      <td>-1.884654</td>\n",
       "      <td>-1.857457</td>\n",
       "      <td>-1.980630</td>\n",
       "      <td>0.144095</td>\n",
       "      <td>2</td>\n",
       "    </tr>\n",
       "    <tr>\n",
       "      <th>3</th>\n",
       "      <td>0.000000</td>\n",
       "      <td>0.000000</td>\n",
       "      <td>0.000000</td>\n",
       "      <td>0.000000</td>\n",
       "      <td>0.05</td>\n",
       "      <td>{'alpha': 0.05}</td>\n",
       "      <td>-2.245086</td>\n",
       "      <td>-1.917584</td>\n",
       "      <td>-1.998292</td>\n",
       "      <td>-1.891595</td>\n",
       "      <td>-1.856430</td>\n",
       "      <td>-1.981797</td>\n",
       "      <td>0.139693</td>\n",
       "      <td>5</td>\n",
       "    </tr>\n",
       "    <tr>\n",
       "      <th>4</th>\n",
       "      <td>0.006253</td>\n",
       "      <td>0.007658</td>\n",
       "      <td>0.000000</td>\n",
       "      <td>0.000000</td>\n",
       "      <td>0.1</td>\n",
       "      <td>{'alpha': 0.1}</td>\n",
       "      <td>-2.230523</td>\n",
       "      <td>-1.933373</td>\n",
       "      <td>-2.000174</td>\n",
       "      <td>-1.898478</td>\n",
       "      <td>-1.843730</td>\n",
       "      <td>-1.981256</td>\n",
       "      <td>0.134574</td>\n",
       "      <td>4</td>\n",
       "    </tr>\n",
       "    <tr>\n",
       "      <th>5</th>\n",
       "      <td>0.003123</td>\n",
       "      <td>0.006245</td>\n",
       "      <td>0.000000</td>\n",
       "      <td>0.000000</td>\n",
       "      <td>0.5</td>\n",
       "      <td>{'alpha': 0.5}</td>\n",
       "      <td>-2.216453</td>\n",
       "      <td>-2.077962</td>\n",
       "      <td>-2.081589</td>\n",
       "      <td>-1.965068</td>\n",
       "      <td>-1.895391</td>\n",
       "      <td>-2.047293</td>\n",
       "      <td>0.110061</td>\n",
       "      <td>6</td>\n",
       "    </tr>\n",
       "    <tr>\n",
       "      <th>6</th>\n",
       "      <td>0.003128</td>\n",
       "      <td>0.006256</td>\n",
       "      <td>0.000000</td>\n",
       "      <td>0.000000</td>\n",
       "      <td>1</td>\n",
       "      <td>{'alpha': 1}</td>\n",
       "      <td>-2.297805</td>\n",
       "      <td>-2.323978</td>\n",
       "      <td>-2.261807</td>\n",
       "      <td>-2.132619</td>\n",
       "      <td>-2.097450</td>\n",
       "      <td>-2.222732</td>\n",
       "      <td>0.090807</td>\n",
       "      <td>7</td>\n",
       "    </tr>\n",
       "    <tr>\n",
       "      <th>7</th>\n",
       "      <td>0.000000</td>\n",
       "      <td>0.000000</td>\n",
       "      <td>0.000000</td>\n",
       "      <td>0.000000</td>\n",
       "      <td>5</td>\n",
       "      <td>{'alpha': 5}</td>\n",
       "      <td>-5.112168</td>\n",
       "      <td>-5.680627</td>\n",
       "      <td>-5.422810</td>\n",
       "      <td>-5.288343</td>\n",
       "      <td>-5.382527</td>\n",
       "      <td>-5.377295</td>\n",
       "      <td>0.185642</td>\n",
       "      <td>8</td>\n",
       "    </tr>\n",
       "    <tr>\n",
       "      <th>8</th>\n",
       "      <td>0.003122</td>\n",
       "      <td>0.006244</td>\n",
       "      <td>0.000000</td>\n",
       "      <td>0.000000</td>\n",
       "      <td>10</td>\n",
       "      <td>{'alpha': 10}</td>\n",
       "      <td>-6.397440</td>\n",
       "      <td>-6.866636</td>\n",
       "      <td>-6.655812</td>\n",
       "      <td>-6.545736</td>\n",
       "      <td>-6.623210</td>\n",
       "      <td>-6.617767</td>\n",
       "      <td>0.153065</td>\n",
       "      <td>9</td>\n",
       "    </tr>\n",
       "    <tr>\n",
       "      <th>9</th>\n",
       "      <td>0.000000</td>\n",
       "      <td>0.000000</td>\n",
       "      <td>0.000000</td>\n",
       "      <td>0.000000</td>\n",
       "      <td>20</td>\n",
       "      <td>{'alpha': 20}</td>\n",
       "      <td>-6.397440</td>\n",
       "      <td>-6.866636</td>\n",
       "      <td>-6.655812</td>\n",
       "      <td>-6.545736</td>\n",
       "      <td>-6.623210</td>\n",
       "      <td>-6.617767</td>\n",
       "      <td>0.153065</td>\n",
       "      <td>9</td>\n",
       "    </tr>\n",
       "    <tr>\n",
       "      <th>10</th>\n",
       "      <td>0.000000</td>\n",
       "      <td>0.000000</td>\n",
       "      <td>0.000000</td>\n",
       "      <td>0.000000</td>\n",
       "      <td>50</td>\n",
       "      <td>{'alpha': 50}</td>\n",
       "      <td>-6.397440</td>\n",
       "      <td>-6.866636</td>\n",
       "      <td>-6.655812</td>\n",
       "      <td>-6.545736</td>\n",
       "      <td>-6.623210</td>\n",
       "      <td>-6.617767</td>\n",
       "      <td>0.153065</td>\n",
       "      <td>9</td>\n",
       "    </tr>\n",
       "  </tbody>\n",
       "</table>\n",
       "</div>"
      ],
      "text/plain": [
       "    mean_fit_time  std_fit_time  mean_score_time  std_score_time param_alpha  \\\n",
       "0        0.019506      0.010974         0.003325        0.006162       0.001   \n",
       "1        0.003126      0.006251         0.000000        0.000000       0.005   \n",
       "2        0.003126      0.006251         0.000000        0.000000        0.01   \n",
       "3        0.000000      0.000000         0.000000        0.000000        0.05   \n",
       "4        0.006253      0.007658         0.000000        0.000000         0.1   \n",
       "5        0.003123      0.006245         0.000000        0.000000         0.5   \n",
       "6        0.003128      0.006256         0.000000        0.000000           1   \n",
       "7        0.000000      0.000000         0.000000        0.000000           5   \n",
       "8        0.003122      0.006244         0.000000        0.000000          10   \n",
       "9        0.000000      0.000000         0.000000        0.000000          20   \n",
       "10       0.000000      0.000000         0.000000        0.000000          50   \n",
       "\n",
       "              params  split0_test_rmse  split1_test_rmse  split2_test_rmse  \\\n",
       "0   {'alpha': 0.001}         -2.248499         -1.904685         -2.017751   \n",
       "1   {'alpha': 0.005}         -2.252456         -1.904015         -2.002782   \n",
       "2    {'alpha': 0.01}         -2.251595         -1.906402         -2.003045   \n",
       "3    {'alpha': 0.05}         -2.245086         -1.917584         -1.998292   \n",
       "4     {'alpha': 0.1}         -2.230523         -1.933373         -2.000174   \n",
       "5     {'alpha': 0.5}         -2.216453         -2.077962         -2.081589   \n",
       "6       {'alpha': 1}         -2.297805         -2.323978         -2.261807   \n",
       "7       {'alpha': 5}         -5.112168         -5.680627         -5.422810   \n",
       "8      {'alpha': 10}         -6.397440         -6.866636         -6.655812   \n",
       "9      {'alpha': 20}         -6.397440         -6.866636         -6.655812   \n",
       "10     {'alpha': 50}         -6.397440         -6.866636         -6.655812   \n",
       "\n",
       "    split3_test_rmse  split4_test_rmse  mean_test_rmse  std_test_rmse  \\\n",
       "0          -1.888142         -1.846075       -1.981030       0.145298   \n",
       "1          -1.873738         -1.858215       -1.978241       0.146036   \n",
       "2          -1.884654         -1.857457       -1.980630       0.144095   \n",
       "3          -1.891595         -1.856430       -1.981797       0.139693   \n",
       "4          -1.898478         -1.843730       -1.981256       0.134574   \n",
       "5          -1.965068         -1.895391       -2.047293       0.110061   \n",
       "6          -2.132619         -2.097450       -2.222732       0.090807   \n",
       "7          -5.288343         -5.382527       -5.377295       0.185642   \n",
       "8          -6.545736         -6.623210       -6.617767       0.153065   \n",
       "9          -6.545736         -6.623210       -6.617767       0.153065   \n",
       "10         -6.545736         -6.623210       -6.617767       0.153065   \n",
       "\n",
       "    rank_test_rmse  \n",
       "0                3  \n",
       "1                1  \n",
       "2                2  \n",
       "3                5  \n",
       "4                4  \n",
       "5                6  \n",
       "6                7  \n",
       "7                8  \n",
       "8                9  \n",
       "9                9  \n",
       "10               9  "
      ]
     },
     "execution_count": 51,
     "metadata": {},
     "output_type": "execute_result"
    }
   ],
   "source": [
    "df_train"
   ]
  },
  {
   "cell_type": "code",
   "execution_count": 52,
   "id": "feaa3fc4",
   "metadata": {},
   "outputs": [
    {
     "data": {
      "text/plain": [
       "1.863197289645828"
      ]
     },
     "execution_count": 52,
     "metadata": {},
     "output_type": "execute_result"
    }
   ],
   "source": [
    "y_pred, rmse_val = cv.predict()\n",
    "rmse_val"
   ]
  },
  {
   "cell_type": "code",
   "execution_count": 53,
   "id": "b7afc93a",
   "metadata": {},
   "outputs": [
    {
     "data": {
      "text/plain": [
       "array([ 0.00000000e+00,  0.00000000e+00,  0.00000000e+00,  0.00000000e+00,\n",
       "        0.00000000e+00, -0.00000000e+00,  0.00000000e+00, -0.00000000e+00,\n",
       "       -0.00000000e+00,  0.00000000e+00, -2.04002836e-03, -2.00909026e+00,\n",
       "       -3.18479174e+00, -7.39435273e-02, -1.12405615e+00, -5.30997286e-02,\n",
       "       -2.23627686e-01, -0.00000000e+00, -0.00000000e+00, -0.00000000e+00,\n",
       "       -0.00000000e+00])"
      ]
     },
     "execution_count": 53,
     "metadata": {},
     "output_type": "execute_result"
    }
   ],
   "source": [
    "coeffs = cv.get_coeff()\n",
    "coeffs"
   ]
  },
  {
   "cell_type": "markdown",
   "id": "f38099b6",
   "metadata": {},
   "source": [
    "### 2.3 Conclusion: Lasso is Better"
   ]
  },
  {
   "cell_type": "code",
   "execution_count": 64,
   "id": "359181c9",
   "metadata": {},
   "outputs": [],
   "source": [
    "from helpers.utils import rmse"
   ]
  },
  {
   "cell_type": "code",
   "execution_count": 62,
   "id": "99b8a940",
   "metadata": {},
   "outputs": [
    {
     "data": {
      "text/plain": [
       "Lasso(alpha=0.005, fit_intercept=False, tol=0.001)"
      ]
     },
     "execution_count": 62,
     "metadata": {},
     "output_type": "execute_result"
    }
   ],
   "source": [
    "best_alpha = cv.clf.best_params_[\"alpha\"]\n",
    "# print(best_alpha)\n",
    "model_all_tr = Lasso(alpha=best_alpha, fit_intercept=False, tol=1e-3)\n",
    "model_all_tr.fit(X_features, y)"
   ]
  },
  {
   "cell_type": "code",
   "execution_count": 63,
   "id": "4ac0883a",
   "metadata": {},
   "outputs": [
    {
     "data": {
      "text/plain": [
       "array([ 0.        ,  0.        ,  0.        ,  0.        ,  0.        ,\n",
       "       -0.        ,  0.        , -0.        , -0.        ,  0.        ,\n",
       "       -0.19536083, -2.10840448, -3.3994524 , -0.08697392, -0.58766454,\n",
       "       -0.        , -0.27310716, -0.        , -0.        , -0.        ,\n",
       "       -0.        ])"
      ]
     },
     "execution_count": 63,
     "metadata": {},
     "output_type": "execute_result"
    }
   ],
   "source": [
    "model_all_tr.coef_"
   ]
  },
  {
   "cell_type": "code",
   "execution_count": 67,
   "id": "88f604d0",
   "metadata": {},
   "outputs": [
    {
     "data": {
      "text/plain": [
       "1.9480103681175276"
      ]
     },
     "execution_count": 67,
     "metadata": {},
     "output_type": "execute_result"
    }
   ],
   "source": [
    "y_pred = model_all_tr.predict(X_features)\n",
    "rmse(y, y_pred)"
   ]
  },
  {
   "cell_type": "markdown",
   "id": "645dc5d1",
   "metadata": {},
   "source": [
    "## 3. Save Results"
   ]
  },
  {
   "cell_type": "code",
   "execution_count": 68,
   "id": "e213e557",
   "metadata": {},
   "outputs": [],
   "source": [
    "from helpers.utils import save_data"
   ]
  },
  {
   "cell_type": "code",
   "execution_count": 69,
   "id": "735e3734",
   "metadata": {},
   "outputs": [],
   "source": [
    "save_path = \"./outputs/submission.csv\"\n",
    "save_data(save_path, model_all_tr.coef_)"
   ]
  },
  {
   "cell_type": "code",
   "execution_count": null,
   "id": "cfc8d156",
   "metadata": {},
   "outputs": [],
   "source": []
  }
 ],
 "metadata": {
  "kernelspec": {
   "display_name": "IML",
   "language": "python",
   "name": "iml"
  },
  "language_info": {
   "codemirror_mode": {
    "name": "ipython",
    "version": 3
   },
   "file_extension": ".py",
   "mimetype": "text/x-python",
   "name": "python",
   "nbconvert_exporter": "python",
   "pygments_lexer": "ipython3",
   "version": "3.9.5"
  }
 },
 "nbformat": 4,
 "nbformat_minor": 5
}
